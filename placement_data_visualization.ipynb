{
 "cells": [
  {
   "cell_type": "code",
   "execution_count": 138,
   "id": "f7aab404",
   "metadata": {},
   "outputs": [],
   "source": [
    "import pandas as pd\n",
    "import numpy as np\n",
    "import matplotlib.pyplot as plt\n",
    "import seaborn as sns\n",
    "from matplotlib import rcParams"
   ]
  },
  {
   "cell_type": "code",
   "execution_count": 139,
   "id": "de6e42d6",
   "metadata": {},
   "outputs": [
    {
     "data": {
      "text/html": [
       "<div>\n",
       "<style scoped>\n",
       "    .dataframe tbody tr th:only-of-type {\n",
       "        vertical-align: middle;\n",
       "    }\n",
       "\n",
       "    .dataframe tbody tr th {\n",
       "        vertical-align: top;\n",
       "    }\n",
       "\n",
       "    .dataframe thead th {\n",
       "        text-align: right;\n",
       "    }\n",
       "</style>\n",
       "<table border=\"1\" class=\"dataframe\">\n",
       "  <thead>\n",
       "    <tr style=\"text-align: right;\">\n",
       "      <th></th>\n",
       "      <th>sl_no</th>\n",
       "      <th>gender</th>\n",
       "      <th>ssc_p</th>\n",
       "      <th>ssc_b</th>\n",
       "      <th>hsc_p</th>\n",
       "      <th>hsc_b</th>\n",
       "      <th>hsc_s</th>\n",
       "      <th>degree_p</th>\n",
       "      <th>degree_t</th>\n",
       "      <th>workex</th>\n",
       "      <th>etest_p</th>\n",
       "      <th>specialisation</th>\n",
       "      <th>mba_p</th>\n",
       "      <th>status</th>\n",
       "      <th>salary</th>\n",
       "    </tr>\n",
       "  </thead>\n",
       "  <tbody>\n",
       "    <tr>\n",
       "      <th>0</th>\n",
       "      <td>1</td>\n",
       "      <td>M</td>\n",
       "      <td>67.00</td>\n",
       "      <td>Others</td>\n",
       "      <td>91.00</td>\n",
       "      <td>Others</td>\n",
       "      <td>Commerce</td>\n",
       "      <td>58.00</td>\n",
       "      <td>Sci&amp;Tech</td>\n",
       "      <td>No</td>\n",
       "      <td>55.0</td>\n",
       "      <td>Mkt&amp;HR</td>\n",
       "      <td>58.80</td>\n",
       "      <td>Placed</td>\n",
       "      <td>270000.0</td>\n",
       "    </tr>\n",
       "    <tr>\n",
       "      <th>1</th>\n",
       "      <td>2</td>\n",
       "      <td>M</td>\n",
       "      <td>79.33</td>\n",
       "      <td>Central</td>\n",
       "      <td>78.33</td>\n",
       "      <td>Others</td>\n",
       "      <td>Science</td>\n",
       "      <td>77.48</td>\n",
       "      <td>Sci&amp;Tech</td>\n",
       "      <td>Yes</td>\n",
       "      <td>86.5</td>\n",
       "      <td>Mkt&amp;Fin</td>\n",
       "      <td>66.28</td>\n",
       "      <td>Placed</td>\n",
       "      <td>200000.0</td>\n",
       "    </tr>\n",
       "    <tr>\n",
       "      <th>2</th>\n",
       "      <td>3</td>\n",
       "      <td>M</td>\n",
       "      <td>65.00</td>\n",
       "      <td>Central</td>\n",
       "      <td>68.00</td>\n",
       "      <td>Central</td>\n",
       "      <td>Arts</td>\n",
       "      <td>64.00</td>\n",
       "      <td>Comm&amp;Mgmt</td>\n",
       "      <td>No</td>\n",
       "      <td>75.0</td>\n",
       "      <td>Mkt&amp;Fin</td>\n",
       "      <td>57.80</td>\n",
       "      <td>Placed</td>\n",
       "      <td>250000.0</td>\n",
       "    </tr>\n",
       "    <tr>\n",
       "      <th>3</th>\n",
       "      <td>4</td>\n",
       "      <td>M</td>\n",
       "      <td>56.00</td>\n",
       "      <td>Central</td>\n",
       "      <td>52.00</td>\n",
       "      <td>Central</td>\n",
       "      <td>Science</td>\n",
       "      <td>52.00</td>\n",
       "      <td>Sci&amp;Tech</td>\n",
       "      <td>No</td>\n",
       "      <td>66.0</td>\n",
       "      <td>Mkt&amp;HR</td>\n",
       "      <td>59.43</td>\n",
       "      <td>Not Placed</td>\n",
       "      <td>NaN</td>\n",
       "    </tr>\n",
       "    <tr>\n",
       "      <th>4</th>\n",
       "      <td>5</td>\n",
       "      <td>M</td>\n",
       "      <td>85.80</td>\n",
       "      <td>Central</td>\n",
       "      <td>73.60</td>\n",
       "      <td>Central</td>\n",
       "      <td>Commerce</td>\n",
       "      <td>73.30</td>\n",
       "      <td>Comm&amp;Mgmt</td>\n",
       "      <td>No</td>\n",
       "      <td>96.8</td>\n",
       "      <td>Mkt&amp;Fin</td>\n",
       "      <td>55.50</td>\n",
       "      <td>Placed</td>\n",
       "      <td>425000.0</td>\n",
       "    </tr>\n",
       "  </tbody>\n",
       "</table>\n",
       "</div>"
      ],
      "text/plain": [
       "   sl_no gender  ssc_p    ssc_b  hsc_p    hsc_b     hsc_s  degree_p  \\\n",
       "0      1      M  67.00   Others  91.00   Others  Commerce     58.00   \n",
       "1      2      M  79.33  Central  78.33   Others   Science     77.48   \n",
       "2      3      M  65.00  Central  68.00  Central      Arts     64.00   \n",
       "3      4      M  56.00  Central  52.00  Central   Science     52.00   \n",
       "4      5      M  85.80  Central  73.60  Central  Commerce     73.30   \n",
       "\n",
       "    degree_t workex  etest_p specialisation  mba_p      status    salary  \n",
       "0   Sci&Tech     No     55.0         Mkt&HR  58.80      Placed  270000.0  \n",
       "1   Sci&Tech    Yes     86.5        Mkt&Fin  66.28      Placed  200000.0  \n",
       "2  Comm&Mgmt     No     75.0        Mkt&Fin  57.80      Placed  250000.0  \n",
       "3   Sci&Tech     No     66.0         Mkt&HR  59.43  Not Placed       NaN  \n",
       "4  Comm&Mgmt     No     96.8        Mkt&Fin  55.50      Placed  425000.0  "
      ]
     },
     "execution_count": 139,
     "metadata": {},
     "output_type": "execute_result"
    }
   ],
   "source": [
    "location = 'E:\\MSC CS SEM 1\\FDS\\FDS Datasets\\Placement_Data_Full_Class.csv'\n",
    "df1 = pd.read_csv(location)\n",
    "df1.head()"
   ]
  },
  {
   "cell_type": "markdown",
   "id": "16e76a1a",
   "metadata": {},
   "source": [
    "## Feature description\n",
    "sl_no: Serial Number gender: Gender- Male='M',Female='F' ssc_p: Secondary Education percentage- 10th Grade ssc_b: Board of Education- Central/ Others hsc_p: Higher Secondary Education percentage- 12th Grade hsc_b: Board of Education- Central/ Others hsc_s: Specialization in Higher Secondary Education degree_p: Degree Percentage degree_t: Under Graduation(Degree type)- Field of degree education workex: Work Experience etest_p: Employability test percentage ( conducted by college) specialisation: Post Graduation(MBA)- Specialization mba_p: MBA percentage status: Status of placement- Placed/Not placed salary: Salary offered by corporate to candidates"
   ]
  },
  {
   "cell_type": "code",
   "execution_count": 142,
   "id": "e3f89e97",
   "metadata": {},
   "outputs": [
    {
     "data": {
      "text/html": [
       "<div>\n",
       "<style scoped>\n",
       "    .dataframe tbody tr th:only-of-type {\n",
       "        vertical-align: middle;\n",
       "    }\n",
       "\n",
       "    .dataframe tbody tr th {\n",
       "        vertical-align: top;\n",
       "    }\n",
       "\n",
       "    .dataframe thead th {\n",
       "        text-align: right;\n",
       "    }\n",
       "</style>\n",
       "<table border=\"1\" class=\"dataframe\">\n",
       "  <thead>\n",
       "    <tr style=\"text-align: right;\">\n",
       "      <th></th>\n",
       "      <th>gender</th>\n",
       "      <th>ssc_p</th>\n",
       "      <th>ssc_b</th>\n",
       "      <th>hsc_p</th>\n",
       "      <th>hsc_b</th>\n",
       "      <th>hsc_s</th>\n",
       "      <th>degree_p</th>\n",
       "      <th>degree_t</th>\n",
       "      <th>workex</th>\n",
       "      <th>etest_p</th>\n",
       "      <th>specialisation</th>\n",
       "      <th>mba_p</th>\n",
       "      <th>status</th>\n",
       "      <th>salary</th>\n",
       "    </tr>\n",
       "  </thead>\n",
       "  <tbody>\n",
       "    <tr>\n",
       "      <th>0</th>\n",
       "      <td>M</td>\n",
       "      <td>67.00</td>\n",
       "      <td>Others</td>\n",
       "      <td>91.00</td>\n",
       "      <td>Others</td>\n",
       "      <td>Commerce</td>\n",
       "      <td>58.00</td>\n",
       "      <td>Sci&amp;Tech</td>\n",
       "      <td>No</td>\n",
       "      <td>55.0</td>\n",
       "      <td>Mkt&amp;HR</td>\n",
       "      <td>58.80</td>\n",
       "      <td>Placed</td>\n",
       "      <td>270000.0</td>\n",
       "    </tr>\n",
       "    <tr>\n",
       "      <th>1</th>\n",
       "      <td>M</td>\n",
       "      <td>79.33</td>\n",
       "      <td>Central</td>\n",
       "      <td>78.33</td>\n",
       "      <td>Others</td>\n",
       "      <td>Science</td>\n",
       "      <td>77.48</td>\n",
       "      <td>Sci&amp;Tech</td>\n",
       "      <td>Yes</td>\n",
       "      <td>86.5</td>\n",
       "      <td>Mkt&amp;Fin</td>\n",
       "      <td>66.28</td>\n",
       "      <td>Placed</td>\n",
       "      <td>200000.0</td>\n",
       "    </tr>\n",
       "    <tr>\n",
       "      <th>2</th>\n",
       "      <td>M</td>\n",
       "      <td>65.00</td>\n",
       "      <td>Central</td>\n",
       "      <td>68.00</td>\n",
       "      <td>Central</td>\n",
       "      <td>Arts</td>\n",
       "      <td>64.00</td>\n",
       "      <td>Comm&amp;Mgmt</td>\n",
       "      <td>No</td>\n",
       "      <td>75.0</td>\n",
       "      <td>Mkt&amp;Fin</td>\n",
       "      <td>57.80</td>\n",
       "      <td>Placed</td>\n",
       "      <td>250000.0</td>\n",
       "    </tr>\n",
       "    <tr>\n",
       "      <th>3</th>\n",
       "      <td>M</td>\n",
       "      <td>56.00</td>\n",
       "      <td>Central</td>\n",
       "      <td>52.00</td>\n",
       "      <td>Central</td>\n",
       "      <td>Science</td>\n",
       "      <td>52.00</td>\n",
       "      <td>Sci&amp;Tech</td>\n",
       "      <td>No</td>\n",
       "      <td>66.0</td>\n",
       "      <td>Mkt&amp;HR</td>\n",
       "      <td>59.43</td>\n",
       "      <td>Not Placed</td>\n",
       "      <td>NaN</td>\n",
       "    </tr>\n",
       "    <tr>\n",
       "      <th>4</th>\n",
       "      <td>M</td>\n",
       "      <td>85.80</td>\n",
       "      <td>Central</td>\n",
       "      <td>73.60</td>\n",
       "      <td>Central</td>\n",
       "      <td>Commerce</td>\n",
       "      <td>73.30</td>\n",
       "      <td>Comm&amp;Mgmt</td>\n",
       "      <td>No</td>\n",
       "      <td>96.8</td>\n",
       "      <td>Mkt&amp;Fin</td>\n",
       "      <td>55.50</td>\n",
       "      <td>Placed</td>\n",
       "      <td>425000.0</td>\n",
       "    </tr>\n",
       "  </tbody>\n",
       "</table>\n",
       "</div>"
      ],
      "text/plain": [
       "  gender  ssc_p    ssc_b  hsc_p    hsc_b     hsc_s  degree_p   degree_t  \\\n",
       "0      M  67.00   Others  91.00   Others  Commerce     58.00   Sci&Tech   \n",
       "1      M  79.33  Central  78.33   Others   Science     77.48   Sci&Tech   \n",
       "2      M  65.00  Central  68.00  Central      Arts     64.00  Comm&Mgmt   \n",
       "3      M  56.00  Central  52.00  Central   Science     52.00   Sci&Tech   \n",
       "4      M  85.80  Central  73.60  Central  Commerce     73.30  Comm&Mgmt   \n",
       "\n",
       "  workex  etest_p specialisation  mba_p      status    salary  \n",
       "0     No     55.0         Mkt&HR  58.80      Placed  270000.0  \n",
       "1    Yes     86.5        Mkt&Fin  66.28      Placed  200000.0  \n",
       "2     No     75.0        Mkt&Fin  57.80      Placed  250000.0  \n",
       "3     No     66.0         Mkt&HR  59.43  Not Placed       NaN  \n",
       "4     No     96.8        Mkt&Fin  55.50      Placed  425000.0  "
      ]
     },
     "execution_count": 142,
     "metadata": {},
     "output_type": "execute_result"
    }
   ],
   "source": [
    "#Dropping the sl:no column, we can use drop function as well\n",
    "\n",
    "df=df1.iloc[:,1:]\n",
    "df.head()"
   ]
  },
  {
   "cell_type": "markdown",
   "id": "c90add5d",
   "metadata": {},
   "source": [
    "# Columnwise Evaluation\n",
    "### Gender"
   ]
  },
  {
   "cell_type": "code",
   "execution_count": 145,
   "id": "4b3a2449",
   "metadata": {},
   "outputs": [
    {
     "data": {
      "text/plain": [
       "M    139\n",
       "F     76\n",
       "Name: gender, dtype: int64"
      ]
     },
     "execution_count": 145,
     "metadata": {},
     "output_type": "execute_result"
    }
   ],
   "source": [
    "DG=df.gender.value_counts()\n",
    "DG"
   ]
  },
  {
   "cell_type": "code",
   "execution_count": 146,
   "id": "8ac2f87b",
   "metadata": {},
   "outputs": [
    {
     "data": {
      "image/png": "[encoded data removed]",
      "text/plain": [
       "<Figure size 360x360 with 1 Axes>"
      ]
     },
     "metadata": {},
     "output_type": "display_data"
    }
   ],
   "source": [
    "# Pie diagram for gender evaluation\n",
    "\n",
    "rcParams['figure.figsize'] = 5,5\n",
    "\n",
    "plt.pie(DG,[0.1,0],colors=['blue','pink'],labels=['M','F'],autopct='%1.1f%%')\n",
    "plt.title(\"Gender\")\n",
    "plt.show()"
   ]
  },
  {
   "cell_type": "markdown",
   "id": "87c9af13",
   "metadata": {},
   "source": [
    "### ssc_p: Secondary Education percentage- 10th Grade"
   ]
  },
  {
   "cell_type": "code",
   "execution_count": 147,
   "id": "03985259",
   "metadata": {},
   "outputs": [
    {
     "data": {
      "text/plain": [
       "89.4"
      ]
     },
     "execution_count": 147,
     "metadata": {},
     "output_type": "execute_result"
    }
   ],
   "source": [
    "# What is the maximum secondary Education Percentage\n",
    "\n",
    "df.ssc_p.max()"
   ]
  },
  {
   "cell_type": "code",
   "execution_count": 148,
   "id": "963ecdc7",
   "metadata": {},
   "outputs": [
    {
     "data": {
      "text/plain": [
       "40.89"
      ]
     },
     "execution_count": 148,
     "metadata": {},
     "output_type": "execute_result"
    }
   ],
   "source": [
    "# What is the minimum secondary Education Percentage\n",
    "\n",
    "df.ssc_p.min()"
   ]
  },
  {
   "cell_type": "code",
   "execution_count": 199,
   "id": "30b68e3f",
   "metadata": {},
   "outputs": [
    {
     "data": {
      "image/png": "[encoded data removed]",
      "text/plain": [
       "<Figure size 360x360 with 1 Axes>"
      ]
     },
     "metadata": {},
     "output_type": "display_data"
    }
   ],
   "source": [
    "#frequecies of ssc_p\n",
    "\n",
    "sns.histplot(data=df[['ssc_p']],x='ssc_p')\n",
    "plt.title('Secondary Education Percentage (ssc_p)')\n",
    "plt.show()"
   ]
  },
  {
   "cell_type": "code",
   "execution_count": 151,
   "id": "829ce67f",
   "metadata": {},
   "outputs": [
    {
     "data": {
      "text/html": [
       "<div>\n",
       "<style scoped>\n",
       "    .dataframe tbody tr th:only-of-type {\n",
       "        vertical-align: middle;\n",
       "    }\n",
       "\n",
       "    .dataframe tbody tr th {\n",
       "        vertical-align: top;\n",
       "    }\n",
       "\n",
       "    .dataframe thead th {\n",
       "        text-align: right;\n",
       "    }\n",
       "</style>\n",
       "<table border=\"1\" class=\"dataframe\">\n",
       "  <thead>\n",
       "    <tr style=\"text-align: right;\">\n",
       "      <th></th>\n",
       "      <th>gender</th>\n",
       "      <th>ssc_p</th>\n",
       "    </tr>\n",
       "  </thead>\n",
       "  <tbody>\n",
       "    <tr>\n",
       "      <th>185</th>\n",
       "      <td>F</td>\n",
       "      <td>88.00</td>\n",
       "    </tr>\n",
       "    <tr>\n",
       "      <th>33</th>\n",
       "      <td>F</td>\n",
       "      <td>87.00</td>\n",
       "    </tr>\n",
       "    <tr>\n",
       "      <th>62</th>\n",
       "      <td>F</td>\n",
       "      <td>86.50</td>\n",
       "    </tr>\n",
       "    <tr>\n",
       "      <th>90</th>\n",
       "      <td>F</td>\n",
       "      <td>85.00</td>\n",
       "    </tr>\n",
       "    <tr>\n",
       "      <th>125</th>\n",
       "      <td>F</td>\n",
       "      <td>84.00</td>\n",
       "    </tr>\n",
       "    <tr>\n",
       "      <th>...</th>\n",
       "      <td>...</td>\n",
       "      <td>...</td>\n",
       "    </tr>\n",
       "    <tr>\n",
       "      <th>136</th>\n",
       "      <td>F</td>\n",
       "      <td>47.00</td>\n",
       "    </tr>\n",
       "    <tr>\n",
       "      <th>6</th>\n",
       "      <td>F</td>\n",
       "      <td>46.00</td>\n",
       "    </tr>\n",
       "    <tr>\n",
       "      <th>100</th>\n",
       "      <td>F</td>\n",
       "      <td>45.00</td>\n",
       "    </tr>\n",
       "    <tr>\n",
       "      <th>208</th>\n",
       "      <td>F</td>\n",
       "      <td>43.00</td>\n",
       "    </tr>\n",
       "    <tr>\n",
       "      <th>52</th>\n",
       "      <td>F</td>\n",
       "      <td>40.89</td>\n",
       "    </tr>\n",
       "  </tbody>\n",
       "</table>\n",
       "<p>76 rows × 2 columns</p>\n",
       "</div>"
      ],
      "text/plain": [
       "    gender  ssc_p\n",
       "185      F  88.00\n",
       "33       F  87.00\n",
       "62       F  86.50\n",
       "90       F  85.00\n",
       "125      F  84.00\n",
       "..     ...    ...\n",
       "136      F  47.00\n",
       "6        F  46.00\n",
       "100      F  45.00\n",
       "208      F  43.00\n",
       "52       F  40.89\n",
       "\n",
       "[76 rows x 2 columns]"
      ]
     },
     "execution_count": 151,
     "metadata": {},
     "output_type": "execute_result"
    }
   ],
   "source": [
    "# ssc_p of Female candidates\n",
    "F_ssc_p=df[(df.gender=='F') & (df.ssc_p)].iloc[:,[0,1]].sort_values(by=['ssc_p'],ascending=False)\n",
    "F_ssc_p"
   ]
  },
  {
   "cell_type": "code",
   "execution_count": 152,
   "id": "384b3f22",
   "metadata": {},
   "outputs": [
    {
     "data": {
      "text/html": [
       "<div>\n",
       "<style scoped>\n",
       "    .dataframe tbody tr th:only-of-type {\n",
       "        vertical-align: middle;\n",
       "    }\n",
       "\n",
       "    .dataframe tbody tr th {\n",
       "        vertical-align: top;\n",
       "    }\n",
       "\n",
       "    .dataframe thead th {\n",
       "        text-align: right;\n",
       "    }\n",
       "</style>\n",
       "<table border=\"1\" class=\"dataframe\">\n",
       "  <thead>\n",
       "    <tr style=\"text-align: right;\">\n",
       "      <th></th>\n",
       "      <th>gender</th>\n",
       "      <th>ssc_p</th>\n",
       "    </tr>\n",
       "  </thead>\n",
       "  <tbody>\n",
       "    <tr>\n",
       "      <th>145</th>\n",
       "      <td>M</td>\n",
       "      <td>89.4</td>\n",
       "    </tr>\n",
       "    <tr>\n",
       "      <th>43</th>\n",
       "      <td>M</td>\n",
       "      <td>87.0</td>\n",
       "    </tr>\n",
       "    <tr>\n",
       "      <th>160</th>\n",
       "      <td>M</td>\n",
       "      <td>87.0</td>\n",
       "    </tr>\n",
       "    <tr>\n",
       "      <th>4</th>\n",
       "      <td>M</td>\n",
       "      <td>85.8</td>\n",
       "    </tr>\n",
       "    <tr>\n",
       "      <th>142</th>\n",
       "      <td>M</td>\n",
       "      <td>85.0</td>\n",
       "    </tr>\n",
       "    <tr>\n",
       "      <th>...</th>\n",
       "      <td>...</td>\n",
       "      <td>...</td>\n",
       "    </tr>\n",
       "    <tr>\n",
       "      <th>36</th>\n",
       "      <td>M</td>\n",
       "      <td>51.0</td>\n",
       "    </tr>\n",
       "    <tr>\n",
       "      <th>153</th>\n",
       "      <td>M</td>\n",
       "      <td>49.0</td>\n",
       "    </tr>\n",
       "    <tr>\n",
       "      <th>42</th>\n",
       "      <td>M</td>\n",
       "      <td>49.0</td>\n",
       "    </tr>\n",
       "    <tr>\n",
       "      <th>149</th>\n",
       "      <td>M</td>\n",
       "      <td>44.0</td>\n",
       "    </tr>\n",
       "    <tr>\n",
       "      <th>206</th>\n",
       "      <td>M</td>\n",
       "      <td>41.0</td>\n",
       "    </tr>\n",
       "  </tbody>\n",
       "</table>\n",
       "<p>139 rows × 2 columns</p>\n",
       "</div>"
      ],
      "text/plain": [
       "    gender  ssc_p\n",
       "145      M   89.4\n",
       "43       M   87.0\n",
       "160      M   87.0\n",
       "4        M   85.8\n",
       "142      M   85.0\n",
       "..     ...    ...\n",
       "36       M   51.0\n",
       "153      M   49.0\n",
       "42       M   49.0\n",
       "149      M   44.0\n",
       "206      M   41.0\n",
       "\n",
       "[139 rows x 2 columns]"
      ]
     },
     "execution_count": 152,
     "metadata": {},
     "output_type": "execute_result"
    }
   ],
   "source": [
    "# ssc_p of Male candidates\n",
    "M_ssc_p=df[(df.gender=='M') & (df.ssc_p)].iloc[:,[0,1]].sort_values(by=['ssc_p'],ascending=False)\n",
    "M_ssc_p"
   ]
  },
  {
   "cell_type": "code",
   "execution_count": 153,
   "id": "42a7e45c",
   "metadata": {},
   "outputs": [
    {
     "data": {
      "text/plain": [
       "gender  ssc_p\n",
       "F       77.0     4\n",
       "        74.0     4\n",
       "        69.0     4\n",
       "        73.0     3\n",
       "        64.0     3\n",
       "        79.0     3\n",
       "        67.0     2\n",
       "        66.5     2\n",
       "        59.0     2\n",
       "        72.0     2\n",
       "dtype: int64"
      ]
     },
     "execution_count": 153,
     "metadata": {},
     "output_type": "execute_result"
    }
   ],
   "source": [
    "F_ssc_p.value_counts().head(10)"
   ]
  },
  {
   "cell_type": "code",
   "execution_count": 154,
   "id": "365cf9d5",
   "metadata": {},
   "outputs": [
    {
     "data": {
      "text/plain": [
       "gender  ssc_p\n",
       "M       62.0     11\n",
       "        63.0      9\n",
       "        52.0      7\n",
       "        67.0      7\n",
       "        58.0      6\n",
       "        65.0      6\n",
       "        73.0      6\n",
       "        80.0      3\n",
       "        70.0      3\n",
       "        74.0      3\n",
       "dtype: int64"
      ]
     },
     "execution_count": 154,
     "metadata": {},
     "output_type": "execute_result"
    }
   ],
   "source": [
    "M_ssc_p.value_counts().head(10)"
   ]
  },
  {
   "cell_type": "code",
   "execution_count": 200,
   "id": "4a83c57b",
   "metadata": {},
   "outputs": [
    {
     "data": {
      "image/png": "[encoded data removed]",
      "text/plain": [
       "<Figure size 720x360 with 2 Axes>"
      ]
     },
     "metadata": {},
     "output_type": "display_data"
    }
   ],
   "source": [
    "# ssc_p of Feamle and Male candidates in histogram\n",
    "\n",
    "fig,(ax1,ax2) = plt.subplots(1,2,sharex=True, figsize=(10,5))\n",
    "\n",
    "sns.histplot(data=F_ssc_p,x='ssc_p',ax=ax1,color='r')\n",
    "\n",
    "sns.histplot(data=M_ssc_p,x='ssc_p',ax=ax2)\n",
    "\n",
    "ax1.title.set_text('(ssc_p) female candidates')\n",
    "ax2.title.set_text('(ssc_p) male candidates')\n",
    "\n",
    "plt.show()"
   ]
  },
  {
   "cell_type": "markdown",
   "id": "88b408d6",
   "metadata": {},
   "source": [
    "### ssc_b: Board of Education- Central/ Others"
   ]
  },
  {
   "cell_type": "code",
   "execution_count": 156,
   "id": "004b057e",
   "metadata": {},
   "outputs": [
    {
     "data": {
      "text/plain": [
       "Central    116\n",
       "Others      99\n",
       "Name: ssc_b, dtype: int64"
      ]
     },
     "execution_count": 156,
     "metadata": {},
     "output_type": "execute_result"
    }
   ],
   "source": [
    "# how many candidates from central & others board of education\n",
    "\n",
    "df.ssc_b.value_counts()"
   ]
  },
  {
   "cell_type": "code",
   "execution_count": 157,
   "id": "270718f6",
   "metadata": {},
   "outputs": [
    {
     "data": {
      "text/plain": [
       "Text(0.5, 1.0, 'ssc_b: Board of Education- Central/ Others')"
      ]
     },
     "execution_count": 157,
     "metadata": {},
     "output_type": "execute_result"
    },
    {
     "data": {
      "image/png": "[encoded data removed]",
      "text/plain": [
       "<Figure size 360x360 with 1 Axes>"
      ]
     },
     "metadata": {},
     "output_type": "display_data"
    }
   ],
   "source": [
    "df.ssc_b.value_counts().plot(kind='bar',color='#19A992')\n",
    "plt.xticks(rotation=0)\n",
    "\n",
    "plt.title('ssc_b: Board of Education- Central/ Others')"
   ]
  },
  {
   "cell_type": "markdown",
   "id": "a1e4c884",
   "metadata": {},
   "source": [
    "### hsc_p: Higher Secondary Education percentage- 12th Grade"
   ]
  },
  {
   "cell_type": "code",
   "execution_count": 158,
   "id": "91462d72",
   "metadata": {},
   "outputs": [
    {
     "data": {
      "text/plain": [
       "0      91.00\n",
       "1      78.33\n",
       "2      68.00\n",
       "3      52.00\n",
       "4      73.60\n",
       "       ...  \n",
       "210    82.00\n",
       "211    60.00\n",
       "212    67.00\n",
       "213    66.00\n",
       "214    58.00\n",
       "Name: hsc_p, Length: 215, dtype: float64"
      ]
     },
     "execution_count": 158,
     "metadata": {},
     "output_type": "execute_result"
    }
   ],
   "source": [
    "df.hsc_p"
   ]
  },
  {
   "cell_type": "code",
   "execution_count": 159,
   "id": "836e2eb8",
   "metadata": {},
   "outputs": [
    {
     "data": {
      "text/plain": [
       "63.00    14\n",
       "62.00    12\n",
       "67.00     9\n",
       "60.00     9\n",
       "64.00     8\n",
       "         ..\n",
       "83.83     1\n",
       "70.40     1\n",
       "90.90     1\n",
       "89.83     1\n",
       "42.00     1\n",
       "Name: hsc_p, Length: 97, dtype: int64"
      ]
     },
     "execution_count": 159,
     "metadata": {},
     "output_type": "execute_result"
    }
   ],
   "source": [
    "df.hsc_p.value_counts()"
   ]
  },
  {
   "cell_type": "code",
   "execution_count": 160,
   "id": "d1ed506f",
   "metadata": {},
   "outputs": [
    {
     "data": {
      "text/plain": [
       "(array([ 0.,  0.,  0.,  0.,  0.,  0.,  2.,  4.,  8., 13., 15., 63., 32.,\n",
       "        35., 22.,  8.,  6.,  5.]),\n",
       " array([ 5, 10, 15, 20, 25, 30, 35, 40, 45, 50, 55, 60, 65, 70, 75, 80, 85,\n",
       "        90, 95]),\n",
       " <BarContainer object of 18 artists>)"
      ]
     },
     "execution_count": 160,
     "metadata": {},
     "output_type": "execute_result"
    },
    {
     "data": {
      "image/png": "[encoded data removed]",
      "text/plain": [
       "<Figure size 864x432 with 1 Axes>"
      ]
     },
     "metadata": {},
     "output_type": "display_data"
    }
   ],
   "source": [
    "#HSE-Percentage Frequency graph\n",
    "\n",
    "plt.figure(figsize=(12,6))\n",
    "\n",
    "plt.title('Higher Secondary Education percentage- 12th Grade')\n",
    "                                                \n",
    "plt.xlabel('hsc_p')\n",
    "\n",
    "plt.hist(df.hsc_p, bins = np.arange(5,100,5), color = 'blue', edgecolor ='orange')"
   ]
  },
  {
   "cell_type": "code",
   "execution_count": 161,
   "id": "ff7eed3d",
   "metadata": {},
   "outputs": [],
   "source": [
    "# HSE percentage of male/female candidates\n",
    "M_hsc_p=df[(df.gender=='M') & (df.hsc_p)].iloc[:,[0,3]].sort_values(by=['hsc_p'],ascending=False)"
   ]
  },
  {
   "cell_type": "code",
   "execution_count": 162,
   "id": "07ffa8c7",
   "metadata": {},
   "outputs": [
    {
     "data": {
      "text/plain": [
       "gender  hsc_p\n",
       "M       63.0     12\n",
       "        62.0      8\n",
       "        67.0      7\n",
       "        70.0      5\n",
       "        65.0      5\n",
       "dtype: int64"
      ]
     },
     "execution_count": 162,
     "metadata": {},
     "output_type": "execute_result"
    }
   ],
   "source": [
    "M_hsc_p.value_counts().head()"
   ]
  },
  {
   "cell_type": "code",
   "execution_count": 201,
   "id": "8247d31f",
   "metadata": {},
   "outputs": [],
   "source": [
    "F_hsc_p=df[(df.gender=='F') & (df.hsc_p)].iloc[:,[0,3]].sort_values(by=['hsc_p'],ascending=False)"
   ]
  },
  {
   "cell_type": "code",
   "execution_count": 202,
   "id": "dd24e540",
   "metadata": {},
   "outputs": [
    {
     "data": {
      "image/png": "[encoded data removed]",
      "text/plain": [
       "<Figure size 1080x360 with 2 Axes>"
      ]
     },
     "metadata": {},
     "output_type": "display_data"
    }
   ],
   "source": [
    "# hsc_p of Feamle and Male candidates\n",
    "\n",
    "fig,(ax1,ax2) = plt.subplots(1,2,sharex=True, figsize=(15,5),)\n",
    "\n",
    "sns.histplot(data=F_hsc_p,x='hsc_p',ax=ax1,color='violet')\n",
    "\n",
    "sns.histplot(data=M_hsc_p,x='hsc_p',ax=ax2,color='purple')\n",
    "\n",
    "ax1.title.set_text(' hsc perc.of female candidates')\n",
    "ax2.title.set_text('hsc perc.of male candidates')\n",
    "\n",
    "plt.show()"
   ]
  },
  {
   "cell_type": "code",
   "execution_count": 203,
   "id": "7ed17d0f",
   "metadata": {},
   "outputs": [
    {
     "data": {
      "text/plain": [
       "<AxesSubplot:xlabel='ssc_p', ylabel='hsc_p'>"
      ]
     },
     "execution_count": 203,
     "metadata": {},
     "output_type": "execute_result"
    },
    {
     "data": {
      "image/png": "[encoded data removed]",
      "text/plain": [
       "<Figure size 360x360 with 1 Axes>"
      ]
     },
     "metadata": {},
     "output_type": "display_data"
    }
   ],
   "source": [
    "# Scatter plot for ssc_p & hsc_p Of Female/Male.\n",
    "\n",
    "sns.scatterplot(data=df,x=df.ssc_p,y=df.hsc_p, hue='gender')"
   ]
  },
  {
   "cell_type": "code",
   "execution_count": 167,
   "id": "aee3b19c",
   "metadata": {},
   "outputs": [],
   "source": [
    "def countplot_of_2(x,hue,title=None,figsize=(6,5)):\n",
    "    plt.figure(figsize=figsize)\n",
    "    sns.countplot(data=df[[x,hue]],x=x,hue=hue,palette=\"Set3\")\n",
    "    plt.title(title)\n",
    "    plt.show()"
   ]
  },
  {
   "cell_type": "code",
   "execution_count": 204,
   "id": "f7156ad1",
   "metadata": {},
   "outputs": [
    {
     "data": {
      "image/png": "[encoded data removed]",
      "text/plain": [
       "<Figure size 432x360 with 1 Axes>"
      ]
     },
     "metadata": {},
     "output_type": "display_data"
    }
   ],
   "source": [
    "#graphical representation of Male/Female candidates from central/others board of education\n",
    "\n",
    "countplot_of_2('ssc_b','gender','Male/Female candidates from central/others board of education')"
   ]
  },
  {
   "cell_type": "markdown",
   "id": "b9e922e6",
   "metadata": {},
   "source": [
    "### hsc_b: Board of Education- Central/ Others"
   ]
  },
  {
   "cell_type": "code",
   "execution_count": 173,
   "id": "211bbacf",
   "metadata": {},
   "outputs": [
    {
     "data": {
      "text/plain": [
       "Others     131\n",
       "Central     84\n",
       "Name: hsc_b, dtype: int64"
      ]
     },
     "execution_count": 173,
     "metadata": {},
     "output_type": "execute_result"
    }
   ],
   "source": [
    "#how many candidates from central/other board of education\n",
    "\n",
    "df.hsc_b.value_counts()"
   ]
  },
  {
   "cell_type": "code",
   "execution_count": 174,
   "id": "496e40b3",
   "metadata": {},
   "outputs": [
    {
     "data": {
      "image/png": "[encoded data removed]",
      "text/plain": [
       "<Figure size 360x360 with 1 Axes>"
      ]
     },
     "metadata": {},
     "output_type": "display_data"
    }
   ],
   "source": [
    "# pie-plot for hsc_b \n",
    "\n",
    "plt.pie(df.hsc_b.value_counts(),[0.1,0],colors=['orange','yellow'],labels=['Others','Central'],autopct=\"%1.1f%%\")\n",
    "plt.title(\"HSC_b\")\n",
    "plt.show()"
   ]
  },
  {
   "cell_type": "code",
   "execution_count": 175,
   "id": "e5af077c",
   "metadata": {},
   "outputs": [
    {
     "data": {
      "image/png": "[encoded data removed]",
      "text/plain": [
       "<Figure size 432x360 with 1 Axes>"
      ]
     },
     "metadata": {},
     "output_type": "display_data"
    }
   ],
   "source": [
    "#graphical representation of Male/Female candidates from central/others board of education-12th\n",
    "\n",
    "countplot_of_2('hsc_b','gender','Male/Female candidates from central/others board of education-12th')"
   ]
  },
  {
   "cell_type": "markdown",
   "id": "6be4011b",
   "metadata": {},
   "source": [
    "### hsc_s: Specialization in Higher Secondary Education"
   ]
  },
  {
   "cell_type": "code",
   "execution_count": 176,
   "id": "a10949a0",
   "metadata": {},
   "outputs": [
    {
     "data": {
      "text/plain": [
       "Commerce    113\n",
       "Science      91\n",
       "Arts         11\n",
       "Name: hsc_s, dtype: int64"
      ]
     },
     "execution_count": 176,
     "metadata": {},
     "output_type": "execute_result"
    }
   ],
   "source": [
    "df.hsc_s.value_counts()"
   ]
  },
  {
   "cell_type": "code",
   "execution_count": 177,
   "id": "8bdb0cd3",
   "metadata": {},
   "outputs": [
    {
     "data": {
      "text/plain": [
       "Text(0.5, 0, '12th-specialization\"')"
      ]
     },
     "execution_count": 177,
     "metadata": {},
     "output_type": "execute_result"
    },
    {
     "data": {
      "image/png": "[encoded data removed]",
      "text/plain": [
       "<Figure size 504x288 with 1 Axes>"
      ]
     },
     "metadata": {},
     "output_type": "display_data"
    }
   ],
   "source": [
    "plt.figure(figsize=(7,4))\n",
    "\n",
    "sns.barplot(x=df.hsc_s.value_counts(), y=df.hsc_s.value_counts().index,palette = \"rocket\")\n",
    "\n",
    "\n",
    "plt.xlabel('12th-specialization\"',fontsize=18)"
   ]
  },
  {
   "cell_type": "code",
   "execution_count": 178,
   "id": "2a73d7af",
   "metadata": {},
   "outputs": [
    {
     "data": {
      "image/png": "[encoded data removed]",
      "text/plain": [
       "<Figure size 432x360 with 1 Axes>"
      ]
     },
     "metadata": {},
     "output_type": "display_data"
    }
   ],
   "source": [
    "countplot_of_2('gender','hsc_s','male/female-12thspecialization')"
   ]
  },
  {
   "cell_type": "markdown",
   "id": "0234fe49",
   "metadata": {},
   "source": [
    "### degree_p: Degree Percentage"
   ]
  },
  {
   "cell_type": "code",
   "execution_count": 180,
   "id": "63930aa6",
   "metadata": {},
   "outputs": [
    {
     "data": {
      "text/plain": [
       "Text(0.5, 0, 'degree_p')"
      ]
     },
     "execution_count": 180,
     "metadata": {},
     "output_type": "execute_result"
    },
    {
     "data": {
      "image/png": "[encoded data removed]",
      "text/plain": [
       "<Figure size 360x360 with 1 Axes>"
      ]
     },
     "metadata": {},
     "output_type": "display_data"
    }
   ],
   "source": [
    "# Degree percentage histogram\n",
    "\n",
    "plt.hist(df.degree_p,bins=8,color='aqua',edgecolor='green')\n",
    "plt.title('Degree percentage')\n",
    "                                                \n",
    "plt.xlabel('degree_p')"
   ]
  },
  {
   "cell_type": "code",
   "execution_count": 181,
   "id": "c35487e1",
   "metadata": {},
   "outputs": [
    {
     "data": {
      "text/html": [
       "<div>\n",
       "<style scoped>\n",
       "    .dataframe tbody tr th:only-of-type {\n",
       "        vertical-align: middle;\n",
       "    }\n",
       "\n",
       "    .dataframe tbody tr th {\n",
       "        vertical-align: top;\n",
       "    }\n",
       "\n",
       "    .dataframe thead th {\n",
       "        text-align: right;\n",
       "    }\n",
       "</style>\n",
       "<table border=\"1\" class=\"dataframe\">\n",
       "  <thead>\n",
       "    <tr style=\"text-align: right;\">\n",
       "      <th></th>\n",
       "      <th>gender</th>\n",
       "      <th>degree_p</th>\n",
       "    </tr>\n",
       "  </thead>\n",
       "  <tbody>\n",
       "    <tr>\n",
       "      <th>107</th>\n",
       "      <td>M</td>\n",
       "      <td>83.00</td>\n",
       "    </tr>\n",
       "    <tr>\n",
       "      <th>24</th>\n",
       "      <td>M</td>\n",
       "      <td>78.86</td>\n",
       "    </tr>\n",
       "    <tr>\n",
       "      <th>11</th>\n",
       "      <td>M</td>\n",
       "      <td>78.30</td>\n",
       "    </tr>\n",
       "    <tr>\n",
       "      <th>118</th>\n",
       "      <td>M</td>\n",
       "      <td>78.00</td>\n",
       "    </tr>\n",
       "    <tr>\n",
       "      <th>72</th>\n",
       "      <td>M</td>\n",
       "      <td>78.00</td>\n",
       "    </tr>\n",
       "    <tr>\n",
       "      <th>...</th>\n",
       "      <td>...</td>\n",
       "      <td>...</td>\n",
       "    </tr>\n",
       "    <tr>\n",
       "      <th>214</th>\n",
       "      <td>M</td>\n",
       "      <td>53.00</td>\n",
       "    </tr>\n",
       "    <tr>\n",
       "      <th>34</th>\n",
       "      <td>M</td>\n",
       "      <td>52.00</td>\n",
       "    </tr>\n",
       "    <tr>\n",
       "      <th>3</th>\n",
       "      <td>M</td>\n",
       "      <td>52.00</td>\n",
       "    </tr>\n",
       "    <tr>\n",
       "      <th>91</th>\n",
       "      <td>M</td>\n",
       "      <td>50.80</td>\n",
       "    </tr>\n",
       "    <tr>\n",
       "      <th>14</th>\n",
       "      <td>M</td>\n",
       "      <td>50.00</td>\n",
       "    </tr>\n",
       "  </tbody>\n",
       "</table>\n",
       "<p>139 rows × 2 columns</p>\n",
       "</div>"
      ],
      "text/plain": [
       "    gender  degree_p\n",
       "107      M     83.00\n",
       "24       M     78.86\n",
       "11       M     78.30\n",
       "118      M     78.00\n",
       "72       M     78.00\n",
       "..     ...       ...\n",
       "214      M     53.00\n",
       "34       M     52.00\n",
       "3        M     52.00\n",
       "91       M     50.80\n",
       "14       M     50.00\n",
       "\n",
       "[139 rows x 2 columns]"
      ]
     },
     "execution_count": 181,
     "metadata": {},
     "output_type": "execute_result"
    }
   ],
   "source": [
    "M_Degree_p=df[(df.gender=='M') & (df.degree_p)].iloc[:,[0,6]].sort_values(by=['degree_p'],ascending=False)\n",
    "M_Degree_p"
   ]
  },
  {
   "cell_type": "code",
   "execution_count": 182,
   "id": "64755c77",
   "metadata": {},
   "outputs": [
    {
     "data": {
      "text/plain": [
       "gender  degree_p\n",
       "M       65.0        14\n",
       "        66.0         9\n",
       "        72.0         8\n",
       "        64.0         8\n",
       "        60.0         7\n",
       "                    ..\n",
       "        64.6         1\n",
       "        64.8         1\n",
       "        50.8         1\n",
       "        66.6         1\n",
       "        83.0         1\n",
       "Length: 65, dtype: int64"
      ]
     },
     "execution_count": 182,
     "metadata": {},
     "output_type": "execute_result"
    }
   ],
   "source": [
    "M_Degree_p.value_counts()"
   ]
  },
  {
   "cell_type": "code",
   "execution_count": 183,
   "id": "8ab9e8dc",
   "metadata": {},
   "outputs": [
    {
     "data": {
      "text/html": [
       "<div>\n",
       "<style scoped>\n",
       "    .dataframe tbody tr th:only-of-type {\n",
       "        vertical-align: middle;\n",
       "    }\n",
       "\n",
       "    .dataframe tbody tr th {\n",
       "        vertical-align: top;\n",
       "    }\n",
       "\n",
       "    .dataframe thead th {\n",
       "        text-align: right;\n",
       "    }\n",
       "</style>\n",
       "<table border=\"1\" class=\"dataframe\">\n",
       "  <thead>\n",
       "    <tr style=\"text-align: right;\">\n",
       "      <th></th>\n",
       "      <th>gender</th>\n",
       "      <th>degree_p</th>\n",
       "    </tr>\n",
       "  </thead>\n",
       "  <tbody>\n",
       "    <tr>\n",
       "      <th>197</th>\n",
       "      <td>F</td>\n",
       "      <td>91.0</td>\n",
       "    </tr>\n",
       "    <tr>\n",
       "      <th>21</th>\n",
       "      <td>F</td>\n",
       "      <td>85.0</td>\n",
       "    </tr>\n",
       "    <tr>\n",
       "      <th>152</th>\n",
       "      <td>F</td>\n",
       "      <td>84.0</td>\n",
       "    </tr>\n",
       "    <tr>\n",
       "      <th>90</th>\n",
       "      <td>F</td>\n",
       "      <td>82.0</td>\n",
       "    </tr>\n",
       "    <tr>\n",
       "      <th>33</th>\n",
       "      <td>F</td>\n",
       "      <td>81.0</td>\n",
       "    </tr>\n",
       "    <tr>\n",
       "      <th>...</th>\n",
       "      <td>...</td>\n",
       "      <td>...</td>\n",
       "    </tr>\n",
       "    <tr>\n",
       "      <th>193</th>\n",
       "      <td>F</td>\n",
       "      <td>56.0</td>\n",
       "    </tr>\n",
       "    <tr>\n",
       "      <th>173</th>\n",
       "      <td>F</td>\n",
       "      <td>55.0</td>\n",
       "    </tr>\n",
       "    <tr>\n",
       "      <th>52</th>\n",
       "      <td>F</td>\n",
       "      <td>53.0</td>\n",
       "    </tr>\n",
       "    <tr>\n",
       "      <th>49</th>\n",
       "      <td>F</td>\n",
       "      <td>52.0</td>\n",
       "    </tr>\n",
       "    <tr>\n",
       "      <th>25</th>\n",
       "      <td>F</td>\n",
       "      <td>50.2</td>\n",
       "    </tr>\n",
       "  </tbody>\n",
       "</table>\n",
       "<p>76 rows × 2 columns</p>\n",
       "</div>"
      ],
      "text/plain": [
       "    gender  degree_p\n",
       "197      F      91.0\n",
       "21       F      85.0\n",
       "152      F      84.0\n",
       "90       F      82.0\n",
       "33       F      81.0\n",
       "..     ...       ...\n",
       "193      F      56.0\n",
       "173      F      55.0\n",
       "52       F      53.0\n",
       "49       F      52.0\n",
       "25       F      50.2\n",
       "\n",
       "[76 rows x 2 columns]"
      ]
     },
     "execution_count": 183,
     "metadata": {},
     "output_type": "execute_result"
    }
   ],
   "source": [
    "F_Degree_p=df[(df.gender=='F') & (df.degree_p)].iloc[:,[0,6]].sort_values(by=['degree_p'],ascending=False)\n",
    "F_Degree_p"
   ]
  },
  {
   "cell_type": "code",
   "execution_count": 184,
   "id": "0650e295",
   "metadata": {},
   "outputs": [
    {
     "data": {
      "text/plain": [
       "gender  degree_p\n",
       "F       65.0        6\n",
       "        69.0        6\n",
       "        73.0        5\n",
       "        66.0        4\n",
       "        72.0        4\n",
       "dtype: int64"
      ]
     },
     "execution_count": 184,
     "metadata": {},
     "output_type": "execute_result"
    }
   ],
   "source": [
    "F_Degree_p.value_counts().head()"
   ]
  },
  {
   "cell_type": "code",
   "execution_count": 185,
   "id": "70236067",
   "metadata": {},
   "outputs": [
    {
     "data": {
      "image/png": "[encoded data removed]",
      "text/plain": [
       "<Figure size 1080x360 with 2 Axes>"
      ]
     },
     "metadata": {},
     "output_type": "display_data"
    }
   ],
   "source": [
    "# degree_p of Feamle and Male candidates\n",
    "\n",
    "fig,(ax1,ax2) = plt.subplots(1,2,sharex=True, figsize=(15,5),)\n",
    "\n",
    "sns.histplot(data=F_Degree_p,x='degree_p',ax=ax1,color='green')\n",
    "\n",
    "sns.histplot(data=M_Degree_p,x='degree_p',ax=ax2,color='blue')\n",
    "\n",
    "ax1.title.set_text(' Degree perc.of female candidates')\n",
    "ax2.title.set_text('Degree perc.of male candidates')\n",
    "\n",
    "plt.show()"
   ]
  },
  {
   "cell_type": "markdown",
   "id": "df138779",
   "metadata": {},
   "source": [
    "### degree_t: Under Graduation(Degree type)- Field of degree education"
   ]
  },
  {
   "cell_type": "code",
   "execution_count": 187,
   "id": "6332b673",
   "metadata": {},
   "outputs": [
    {
     "data": {
      "image/png": "[encoded data removed]",
      "text/plain": [
       "<Figure size 360x360 with 1 Axes>"
      ]
     },
     "metadata": {},
     "output_type": "display_data"
    }
   ],
   "source": [
    "# pie-plot for degree_stream \n",
    "\n",
    "plt.pie(df.degree_t.value_counts(),[0.1,.05,0],colors=['red','yellow','green'],labels=['Comme&Mgmt','Sci&Tech','Others'],autopct=\"%1.1f%%\")\n",
    "plt.title(\"Degree_Stream\")\n",
    "plt.show()"
   ]
  },
  {
   "cell_type": "code",
   "execution_count": 188,
   "id": "ab25b121",
   "metadata": {},
   "outputs": [
    {
     "data": {
      "image/png": "[encoded data removed]",
      "text/plain": [
       "<Figure size 432x360 with 1 Axes>"
      ]
     },
     "metadata": {},
     "output_type": "display_data"
    }
   ],
   "source": [
    "countplot_of_2('degree_t','gender',\"Male/Female candidates from different degree's\")"
   ]
  },
  {
   "cell_type": "markdown",
   "id": "959f8427",
   "metadata": {},
   "source": [
    "### workex: Work Experience\n"
   ]
  },
  {
   "cell_type": "code",
   "execution_count": 205,
   "id": "d1c04255",
   "metadata": {},
   "outputs": [
    {
     "data": {
      "text/plain": [
       "<seaborn.axisgrid.FacetGrid at 0x2794ee77880>"
      ]
     },
     "execution_count": 205,
     "metadata": {},
     "output_type": "execute_result"
    },
    {
     "data": {
      "image/png": "[encoded data removed]",
      "text/plain": [
       "<Figure size 360x360 with 1 Axes>"
      ]
     },
     "metadata": {},
     "output_type": "display_data"
    }
   ],
   "source": [
    "sns.displot(df.workex,color='violet')"
   ]
  },
  {
   "cell_type": "code",
   "execution_count": 206,
   "id": "64b30fff",
   "metadata": {},
   "outputs": [
    {
     "data": {
      "image/png": "[encoded data removed]",
      "text/plain": [
       "<Figure size 432x360 with 1 Axes>"
      ]
     },
     "metadata": {},
     "output_type": "display_data"
    }
   ],
   "source": [
    "countplot_of_2('workex','gender',\"Male/Female candidates_work experience\")"
   ]
  },
  {
   "cell_type": "markdown",
   "id": "8446a15a",
   "metadata": {},
   "source": [
    "### etest_p: Employability test percentage ( conducted by college)"
   ]
  },
  {
   "cell_type": "code",
   "execution_count": 192,
   "id": "0768be9f",
   "metadata": {},
   "outputs": [
    {
     "data": {
      "text/plain": [
       "60.00    14\n",
       "80.00     8\n",
       "75.00     7\n",
       "67.00     7\n",
       "55.00     6\n",
       "         ..\n",
       "95.46     1\n",
       "93.91     1\n",
       "56.39     1\n",
       "57.50     1\n",
       "91.00     1\n",
       "Name: etest_p, Length: 100, dtype: int64"
      ]
     },
     "execution_count": 192,
     "metadata": {},
     "output_type": "execute_result"
    }
   ],
   "source": [
    "df.etest_p.value_counts()"
   ]
  },
  {
   "cell_type": "code",
   "execution_count": 193,
   "id": "4f2a2d97",
   "metadata": {},
   "outputs": [
    {
     "data": {
      "text/plain": [
       "Text(0.5, 0, 'etest_p')"
      ]
     },
     "execution_count": 193,
     "metadata": {},
     "output_type": "execute_result"
    },
    {
     "data": {
      "image/png": "[encoded data removed]",
      "text/plain": [
       "<Figure size 360x360 with 1 Axes>"
      ]
     },
     "metadata": {},
     "output_type": "display_data"
    }
   ],
   "source": [
    "# Degree percentage histogram\n",
    "\n",
    "plt.hist(df.etest_p,bins=8,color='pink',edgecolor='green')\n",
    "plt.title('Employability test percentage ( conducted by college)')\n",
    "                                                \n",
    "plt.xlabel('etest_p')"
   ]
  },
  {
   "cell_type": "code",
   "execution_count": 194,
   "id": "e149edde",
   "metadata": {},
   "outputs": [
    {
     "data": {
      "text/html": [
       "<div>\n",
       "<style scoped>\n",
       "    .dataframe tbody tr th:only-of-type {\n",
       "        vertical-align: middle;\n",
       "    }\n",
       "\n",
       "    .dataframe tbody tr th {\n",
       "        vertical-align: top;\n",
       "    }\n",
       "\n",
       "    .dataframe thead th {\n",
       "        text-align: right;\n",
       "    }\n",
       "</style>\n",
       "<table border=\"1\" class=\"dataframe\">\n",
       "  <thead>\n",
       "    <tr style=\"text-align: right;\">\n",
       "      <th></th>\n",
       "      <th>gender</th>\n",
       "      <th>etest_p</th>\n",
       "    </tr>\n",
       "  </thead>\n",
       "  <tbody>\n",
       "    <tr>\n",
       "      <th>152</th>\n",
       "      <td>F</td>\n",
       "      <td>98.00</td>\n",
       "    </tr>\n",
       "    <tr>\n",
       "      <th>138</th>\n",
       "      <td>F</td>\n",
       "      <td>96.00</td>\n",
       "    </tr>\n",
       "    <tr>\n",
       "      <th>189</th>\n",
       "      <td>F</td>\n",
       "      <td>95.65</td>\n",
       "    </tr>\n",
       "    <tr>\n",
       "      <th>21</th>\n",
       "      <td>F</td>\n",
       "      <td>95.00</td>\n",
       "    </tr>\n",
       "    <tr>\n",
       "      <th>134</th>\n",
       "      <td>F</td>\n",
       "      <td>94.00</td>\n",
       "    </tr>\n",
       "    <tr>\n",
       "      <th>...</th>\n",
       "      <td>...</td>\n",
       "      <td>...</td>\n",
       "    </tr>\n",
       "    <tr>\n",
       "      <th>38</th>\n",
       "      <td>F</td>\n",
       "      <td>53.70</td>\n",
       "    </tr>\n",
       "    <tr>\n",
       "      <th>164</th>\n",
       "      <td>F</td>\n",
       "      <td>53.04</td>\n",
       "    </tr>\n",
       "    <tr>\n",
       "      <th>30</th>\n",
       "      <td>F</td>\n",
       "      <td>52.00</td>\n",
       "    </tr>\n",
       "    <tr>\n",
       "      <th>32</th>\n",
       "      <td>F</td>\n",
       "      <td>50.89</td>\n",
       "    </tr>\n",
       "    <tr>\n",
       "      <th>190</th>\n",
       "      <td>F</td>\n",
       "      <td>50.00</td>\n",
       "    </tr>\n",
       "  </tbody>\n",
       "</table>\n",
       "<p>76 rows × 2 columns</p>\n",
       "</div>"
      ],
      "text/plain": [
       "    gender  etest_p\n",
       "152      F    98.00\n",
       "138      F    96.00\n",
       "189      F    95.65\n",
       "21       F    95.00\n",
       "134      F    94.00\n",
       "..     ...      ...\n",
       "38       F    53.70\n",
       "164      F    53.04\n",
       "30       F    52.00\n",
       "32       F    50.89\n",
       "190      F    50.00\n",
       "\n",
       "[76 rows x 2 columns]"
      ]
     },
     "execution_count": 194,
     "metadata": {},
     "output_type": "execute_result"
    }
   ],
   "source": [
    "F_etest_p=df[(df.gender=='F') & (df.etest_p)].iloc[:,[0,9]].sort_values(by=['etest_p'],ascending=False)\n",
    "F_etest_p"
   ]
  },
  {
   "cell_type": "code",
   "execution_count": 195,
   "id": "ce0151bc",
   "metadata": {},
   "outputs": [
    {
     "data": {
      "text/html": [
       "<div>\n",
       "<style scoped>\n",
       "    .dataframe tbody tr th:only-of-type {\n",
       "        vertical-align: middle;\n",
       "    }\n",
       "\n",
       "    .dataframe tbody tr th {\n",
       "        vertical-align: top;\n",
       "    }\n",
       "\n",
       "    .dataframe thead th {\n",
       "        text-align: right;\n",
       "    }\n",
       "</style>\n",
       "<table border=\"1\" class=\"dataframe\">\n",
       "  <thead>\n",
       "    <tr style=\"text-align: right;\">\n",
       "      <th></th>\n",
       "      <th>gender</th>\n",
       "      <th>etest_p</th>\n",
       "    </tr>\n",
       "  </thead>\n",
       "  <tbody>\n",
       "    <tr>\n",
       "      <th>24</th>\n",
       "      <td>M</td>\n",
       "      <td>97.40</td>\n",
       "    </tr>\n",
       "    <tr>\n",
       "      <th>206</th>\n",
       "      <td>M</td>\n",
       "      <td>97.00</td>\n",
       "    </tr>\n",
       "    <tr>\n",
       "      <th>118</th>\n",
       "      <td>M</td>\n",
       "      <td>97.00</td>\n",
       "    </tr>\n",
       "    <tr>\n",
       "      <th>4</th>\n",
       "      <td>M</td>\n",
       "      <td>96.80</td>\n",
       "    </tr>\n",
       "    <tr>\n",
       "      <th>116</th>\n",
       "      <td>M</td>\n",
       "      <td>96.00</td>\n",
       "    </tr>\n",
       "    <tr>\n",
       "      <th>...</th>\n",
       "      <td>...</td>\n",
       "      <td>...</td>\n",
       "    </tr>\n",
       "    <tr>\n",
       "      <th>94</th>\n",
       "      <td>M</td>\n",
       "      <td>53.88</td>\n",
       "    </tr>\n",
       "    <tr>\n",
       "      <th>114</th>\n",
       "      <td>M</td>\n",
       "      <td>53.70</td>\n",
       "    </tr>\n",
       "    <tr>\n",
       "      <th>19</th>\n",
       "      <td>M</td>\n",
       "      <td>50.48</td>\n",
       "    </tr>\n",
       "    <tr>\n",
       "      <th>99</th>\n",
       "      <td>M</td>\n",
       "      <td>50.00</td>\n",
       "    </tr>\n",
       "    <tr>\n",
       "      <th>20</th>\n",
       "      <td>M</td>\n",
       "      <td>50.00</td>\n",
       "    </tr>\n",
       "  </tbody>\n",
       "</table>\n",
       "<p>139 rows × 2 columns</p>\n",
       "</div>"
      ],
      "text/plain": [
       "    gender  etest_p\n",
       "24       M    97.40\n",
       "206      M    97.00\n",
       "118      M    97.00\n",
       "4        M    96.80\n",
       "116      M    96.00\n",
       "..     ...      ...\n",
       "94       M    53.88\n",
       "114      M    53.70\n",
       "19       M    50.48\n",
       "99       M    50.00\n",
       "20       M    50.00\n",
       "\n",
       "[139 rows x 2 columns]"
      ]
     },
     "execution_count": 195,
     "metadata": {},
     "output_type": "execute_result"
    }
   ],
   "source": [
    "M_etest_p=df[(df.gender=='M') & (df.etest_p)].iloc[:,[0,9]].sort_values(by=['etest_p'],ascending=False)\n",
    "M_etest_p"
   ]
  },
  {
   "cell_type": "code",
   "execution_count": 196,
   "id": "f13922e1",
   "metadata": {},
   "outputs": [
    {
     "data": {
      "image/png": "[encoded data removed]",
      "text/plain": [
       "<Figure size 1080x360 with 2 Axes>"
      ]
     },
     "metadata": {},
     "output_type": "display_data"
    }
   ],
   "source": [
    "# etest_p of Feamle and Male candidates\n",
    "\n",
    "fig,(ax1,ax2) = plt.subplots(1,2,sharex=True, figsize=(15,5),)\n",
    "\n",
    "sns.histplot(data=F_etest_p,x='etest_p',ax=ax1,color='yellow')\n",
    "\n",
    "sns.histplot(data=M_etest_p,x='etest_p',ax=ax2,color='orange')\n",
    "\n",
    "ax1.title.set_text('Employability test percentage of female candidates')\n",
    "ax2.title.set_text('Employability test percentage of male candidates')\n",
    "\n",
    "plt.show()"
   ]
  },
  {
   "cell_type": "code",
   "execution_count": 207,
   "id": "5b11b9d4",
   "metadata": {},
   "outputs": [
    {
     "data": {
      "text/plain": [
       "('specialisation', 'gender', 'Male/Female candidates-specialisation')"
      ]
     },
     "execution_count": 207,
     "metadata": {},
     "output_type": "execute_result"
    }
   ],
   "source": [
    "\n",
    "('specialisation','gender',\"Male/Female candidates-specialisation\")"
   ]
  },
  {
   "cell_type": "markdown",
   "id": "e268247b",
   "metadata": {},
   "source": [
    "### mba_p: MBA percentage"
   ]
  },
  {
   "cell_type": "code",
   "execution_count": 128,
   "id": "914ed926",
   "metadata": {},
   "outputs": [
    {
     "data": {
      "text/plain": [
       "56.70    3\n",
       "66.94    2\n",
       "59.47    2\n",
       "60.44    2\n",
       "68.07    2\n",
       "        ..\n",
       "67.00    1\n",
       "64.27    1\n",
       "57.65    1\n",
       "59.42    1\n",
       "60.22    1\n",
       "Name: mba_p, Length: 205, dtype: int64"
      ]
     },
     "execution_count": 128,
     "metadata": {},
     "output_type": "execute_result"
    }
   ],
   "source": [
    "df.mba_p.value_counts()"
   ]
  },
  {
   "cell_type": "code",
   "execution_count": 208,
   "id": "9bc93e2e",
   "metadata": {},
   "outputs": [
    {
     "data": {
      "text/plain": [
       "Text(0.5, 0, 'mba_p')"
      ]
     },
     "execution_count": 208,
     "metadata": {},
     "output_type": "execute_result"
    },
    {
     "data": {
      "image/png": "[encoded data removed]",
      "text/plain": [
       "<Figure size 360x360 with 1 Axes>"
      ]
     },
     "metadata": {},
     "output_type": "display_data"
    }
   ],
   "source": [
    "plt.hist(df.mba_p,bins=8,color='indigo',edgecolor='cyan')\n",
    "plt.title('MBA Percentage')\n",
    "                                                \n",
    "plt.xlabel('mba_p')"
   ]
  },
  {
   "cell_type": "markdown",
   "id": "7f78ba84",
   "metadata": {},
   "source": [
    "### status: Status of placement- Placed/Not placed"
   ]
  },
  {
   "cell_type": "code",
   "execution_count": 131,
   "id": "d525e3b1",
   "metadata": {},
   "outputs": [
    {
     "data": {
      "text/plain": [
       "Placed        148\n",
       "Not Placed     67\n",
       "Name: status, dtype: int64"
      ]
     },
     "execution_count": 131,
     "metadata": {},
     "output_type": "execute_result"
    }
   ],
   "source": [
    "df.status.value_counts()"
   ]
  },
  {
   "cell_type": "code",
   "execution_count": 132,
   "id": "06d942cc",
   "metadata": {},
   "outputs": [
    {
     "data": {
      "image/png": "[encoded data removed]",
      "text/plain": [
       "<Figure size 360x360 with 1 Axes>"
      ]
     },
     "metadata": {},
     "output_type": "display_data"
    }
   ],
   "source": [
    "plt.pie(df.status.value_counts(),[0.2,0],colors=['orange','green'],labels=['placed','not placed'],autopct=\"%1.1f%%\")\n",
    "plt.title(\"placement\")\n",
    "plt.show()"
   ]
  },
  {
   "cell_type": "code",
   "execution_count": 133,
   "id": "4561bdd2",
   "metadata": {},
   "outputs": [
    {
     "data": {
      "image/png": "[encoded data removed]",
      "text/plain": [
       "<Figure size 432x360 with 1 Axes>"
      ]
     },
     "metadata": {},
     "output_type": "display_data"
    }
   ],
   "source": [
    "countplot_of_2('status','gender',\"Male/Female candidates-Placement\")"
   ]
  },
  {
   "cell_type": "code",
   "execution_count": 134,
   "id": "e77fee39",
   "metadata": {},
   "outputs": [
    {
     "data": {
      "image/png": "[encoded data removed]",
      "text/plain": [
       "<Figure size 432x360 with 1 Axes>"
      ]
     },
     "metadata": {},
     "output_type": "display_data"
    }
   ],
   "source": [
    "countplot_of_2('specialisation','status',\"specialisation-Placement\")"
   ]
  },
  {
   "cell_type": "code",
   "execution_count": 135,
   "id": "23ed83a0",
   "metadata": {},
   "outputs": [
    {
     "data": {
      "text/plain": [
       "300000.0    22\n",
       "250000.0    18\n",
       "240000.0    15\n",
       "260000.0     7\n",
       "360000.0     6\n",
       "200000.0     6\n",
       "265000.0     6\n",
       "220000.0     5\n",
       "275000.0     5\n",
       "210000.0     4\n",
       "Name: salary, dtype: int64"
      ]
     },
     "execution_count": 135,
     "metadata": {},
     "output_type": "execute_result"
    }
   ],
   "source": [
    "# what is the salary of most of the candidates.\n",
    "\n",
    "df.salary.value_counts().head(10)"
   ]
  },
  {
   "cell_type": "code",
   "execution_count": 136,
   "id": "55f973fe",
   "metadata": {},
   "outputs": [
    {
     "data": {
      "text/plain": [
       "940000.0"
      ]
     },
     "execution_count": 136,
     "metadata": {},
     "output_type": "execute_result"
    }
   ],
   "source": [
    "df.salary.max()"
   ]
  },
  {
   "cell_type": "code",
   "execution_count": 137,
   "id": "cfa964ef",
   "metadata": {},
   "outputs": [
    {
     "data": {
      "text/plain": [
       "200000.0"
      ]
     },
     "execution_count": 137,
     "metadata": {},
     "output_type": "execute_result"
    }
   ],
   "source": [
    "df.salary.min()"
   ]
  }
 ],
 "metadata": {
  "kernelspec": {
   "display_name": "Python 3 (ipykernel)",
   "language": "python",
   "name": "python3"
  },
  "language_info": {
   "codemirror_mode": {
    "name": "ipython",
    "version": 3
   },
   "file_extension": ".py",
   "mimetype": "text/x-python",
   "name": "python",
   "nbconvert_exporter": "python",
   "pygments_lexer": "ipython3",
   "version": "3.9.7"
  }
 },
 "nbformat": 4,
 "nbformat_minor": 5
}
